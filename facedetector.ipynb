{
  "nbformat": 4,
  "nbformat_minor": 0,
  "metadata": {
    "colab": {
      "provenance": [],
      "toc_visible": true,
      "authorship_tag": "ABX9TyPzMDAGIPjtfCxINHlNABQi",
      "include_colab_link": true
    },
    "kernelspec": {
      "name": "python3",
      "display_name": "Python 3"
    },
    "language_info": {
      "name": "python"
    },
    "accelerator": "GPU",
    "gpuClass": "standard"
  },
  "cells": [
    {
      "cell_type": "markdown",
      "metadata": {
        "id": "view-in-github",
        "colab_type": "text"
      },
      "source": [
        "<a href=\"https://colab.research.google.com/github/jgyfutub/eleensmathew.github.io/blob/main/facedetector.ipynb\" target=\"_parent\"><img src=\"https://colab.research.google.com/assets/colab-badge.svg\" alt=\"Open In Colab\"/></a>"
      ]
    },
    {
      "cell_type": "code",
      "execution_count": 1,
      "metadata": {
        "colab": {
          "base_uri": "https://localhost:8080/"
        },
        "id": "ICkUvmCu7SBF",
        "outputId": "fa51218a-53a8-45be-d83d-38c716776522"
      },
      "outputs": [
        {
          "output_type": "stream",
          "name": "stdout",
          "text": [
            "Cloning into 'face_recognition'...\n",
            "remote: Enumerating objects: 26, done.\u001b[K\n",
            "remote: Counting objects: 100% (26/26), done.\u001b[K\n",
            "remote: Compressing objects: 100% (21/21), done.\u001b[K\n",
            "remote: Total 26 (delta 5), reused 23 (delta 3), pack-reused 0\u001b[K\n",
            "Unpacking objects: 100% (26/26), 3.03 MiB | 10.93 MiB/s, done.\n"
          ]
        }
      ],
      "source": [
        "!git clone https://github.com/misbah4064/face_recognition.git\n"
      ]
    },
    {
      "cell_type": "code",
      "source": [
        "!pip install face_recognition\n",
        "%cd face_recognition"
      ],
      "metadata": {
        "colab": {
          "base_uri": "https://localhost:8080/"
        },
        "id": "zDQdW6z485eZ",
        "outputId": "1b9a60ba-ed2c-4f38-b115-ae29624a5136"
      },
      "execution_count": 2,
      "outputs": [
        {
          "output_type": "stream",
          "name": "stdout",
          "text": [
            "Looking in indexes: https://pypi.org/simple, https://us-python.pkg.dev/colab-wheels/public/simple/\n",
            "Collecting face_recognition\n",
            "  Downloading face_recognition-1.3.0-py2.py3-none-any.whl (15 kB)\n",
            "Collecting face-recognition-models>=0.3.0 (from face_recognition)\n",
            "  Downloading face_recognition_models-0.3.0.tar.gz (100.1 MB)\n",
            "\u001b[2K     \u001b[90m━━━━━━━━━━━━━━━━━━━━━━━━━━━━━━━━━━━━━━\u001b[0m \u001b[32m100.1/100.1 MB\u001b[0m \u001b[31m10.6 MB/s\u001b[0m eta \u001b[36m0:00:00\u001b[0m\n",
            "\u001b[?25h  Preparing metadata (setup.py) ... \u001b[?25l\u001b[?25hdone\n",
            "Requirement already satisfied: Click>=6.0 in /usr/local/lib/python3.10/dist-packages (from face_recognition) (8.1.3)\n",
            "Requirement already satisfied: dlib>=19.7 in /usr/local/lib/python3.10/dist-packages (from face_recognition) (19.24.1)\n",
            "Requirement already satisfied: numpy in /usr/local/lib/python3.10/dist-packages (from face_recognition) (1.22.4)\n",
            "Requirement already satisfied: Pillow in /usr/local/lib/python3.10/dist-packages (from face_recognition) (8.4.0)\n",
            "Building wheels for collected packages: face-recognition-models\n",
            "  Building wheel for face-recognition-models (setup.py) ... \u001b[?25l\u001b[?25hdone\n",
            "  Created wheel for face-recognition-models: filename=face_recognition_models-0.3.0-py2.py3-none-any.whl size=100566173 sha256=fc626bd3fa1e712f0035bf8189926b6d46ebfb9638606d38502e8a15a2931f97\n",
            "  Stored in directory: /root/.cache/pip/wheels/7a/eb/cf/e9eced74122b679557f597bb7c8e4c739cfcac526db1fd523d\n",
            "Successfully built face-recognition-models\n",
            "Installing collected packages: face-recognition-models, face_recognition\n",
            "Successfully installed face-recognition-models-0.3.0 face_recognition-1.3.0\n",
            "/content/face_recognition\n"
          ]
        }
      ]
    },
    {
      "cell_type": "code",
      "source": [
        "import face_recognition\n",
        "import numpy as np\n",
        "from google.colab.patches import cv2_imshow\n",
        "import cv2\n",
        "import os\n",
        "from PIL import Image"
      ],
      "metadata": {
        "id": "IknQ6jiavtbp"
      },
      "execution_count": null,
      "outputs": []
    },
    {
      "cell_type": "code",
      "source": [
        "known_face_encodings=[]\n",
        "known_face_names=[]\n",
        "#instead of below line mention the source of images\n",
        "for file in os.listdir(path):\n",
        "  known_face_encodings.append(face_recognition.face_encodings(np.array(Image.open(os.path.join(path,file)).convert(\"RGB\")))[0])\n",
        "  #the name of person in the image\n",
        "  known_face_names.append(file.split('.')[0])\n",
        "#filename is the image to be checked\n",
        "unknown_image=np.array(Image.open(os.path.join(filename)).convert(\"RGB\"))\n",
        "face_locations=face_recognition.face_locations(unknown_image)\n",
        "face_encodings=face_recognition.face_encodings(unknown_image,face_locations)\n",
        "for _,face_encoding in zip(face_locations,face_encodings):\n",
        "  matches=face_recognition.compare_faces(known_face_encodings,face_encoding)\n",
        "  name='unknown'\n",
        "  face_distances=face_recognition.face_distance(known_face_encodings,face_encoding)\n",
        "  best_match_index=np.argmin(face_distances)\n",
        "  if matches[best_match_index]:\n",
        "    name=known_face_names[best_match_index]\n",
        "    print(name)\n"
      ],
      "metadata": {
        "id": "VITq-GqBAKRx",
        "colab": {
          "base_uri": "https://localhost:8080/"
        },
        "outputId": "7d728e5c-a913-4a0e-8fab-06549ebc1021"
      },
      "execution_count": 25,
      "outputs": [
        {
          "output_type": "stream",
          "name": "stdout",
          "text": [
            "[(241, 705, 562, 384)]\n",
            "[(297, 553, 759, 91)]\n",
            "2022-11-24 (5)\n"
          ]
        }
      ]
    },
    {
      "cell_type": "code",
      "source": [],
      "metadata": {
        "id": "xW00SfozvsRx"
      },
      "execution_count": null,
      "outputs": []
    }
  ]
}