{
  "nbformat": 4,
  "nbformat_minor": 0,
  "metadata": {
    "colab": {
      "provenance": [],
      "authorship_tag": "ABX9TyPVsZWjjVkVq/aRFoP91otF",
      "include_colab_link": true
    },
    "kernelspec": {
      "name": "python3",
      "display_name": "Python 3"
    },
    "language_info": {
      "name": "python"
    },
    "accelerator": "GPU",
    "gpuClass": "standard"
  },
  "cells": [
    {
      "cell_type": "markdown",
      "metadata": {
        "id": "view-in-github",
        "colab_type": "text"
      },
      "source": [
        "<a href=\"https://colab.research.google.com/github/jgyfutub/eleensmathew.github.io/blob/main/facedetector.ipynb\" target=\"_parent\"><img src=\"https://colab.research.google.com/assets/colab-badge.svg\" alt=\"Open In Colab\"/></a>"
      ]
    },
    {
      "cell_type": "code",
      "execution_count": null,
      "metadata": {
        "colab": {
          "base_uri": "https://localhost:8080/"
        },
        "id": "ICkUvmCu7SBF",
        "outputId": "ca1b7625-49dc-475b-9d4f-930cdb85d270"
      },
      "outputs": [
        {
          "output_type": "stream",
          "name": "stdout",
          "text": [
            "Cloning into 'face_recognition'...\n",
            "remote: Enumerating objects: 26, done.\u001b[K\n",
            "remote: Counting objects: 100% (26/26), done.\u001b[K\n",
            "remote: Compressing objects: 100% (21/21), done.\u001b[K\n",
            "remote: Total 26 (delta 5), reused 23 (delta 3), pack-reused 0\u001b[K\n",
            "Unpacking objects: 100% (26/26), 3.03 MiB | 10.46 MiB/s, done.\n"
          ]
        }
      ],
      "source": [
        "!git clone https://github.com/misbah4064/face_recognition.git\n"
      ]
    },
    {
      "cell_type": "code",
      "source": [
        "!pip install face_recognition\n",
        "%cd face_recognition"
      ],
      "metadata": {
        "colab": {
          "base_uri": "https://localhost:8080/"
        },
        "id": "zDQdW6z485eZ",
        "outputId": "06dbe6c1-4c08-4f49-f04b-6b3f791b9f9f"
      },
      "execution_count": null,
      "outputs": [
        {
          "output_type": "stream",
          "name": "stdout",
          "text": [
            "Looking in indexes: https://pypi.org/simple, https://us-python.pkg.dev/colab-wheels/public/simple/\n",
            "Collecting face_recognition\n",
            "  Using cached face_recognition-1.3.0-py2.py3-none-any.whl (15 kB)\n",
            "Collecting face-recognition-models>=0.3.0\n",
            "  Using cached face_recognition_models-0.3.0.tar.gz (100.1 MB)\n",
            "  Preparing metadata (setup.py) ... \u001b[?25l\u001b[?25hdone\n",
            "Requirement already satisfied: numpy in /usr/local/lib/python3.9/dist-packages (from face_recognition) (1.22.4)\n",
            "Requirement already satisfied: dlib>=19.7 in /usr/local/lib/python3.9/dist-packages (from face_recognition) (19.24.0)\n",
            "Requirement already satisfied: Pillow in /usr/local/lib/python3.9/dist-packages (from face_recognition) (8.4.0)\n",
            "Requirement already satisfied: Click>=6.0 in /usr/local/lib/python3.9/dist-packages (from face_recognition) (8.1.3)\n",
            "Building wheels for collected packages: face-recognition-models\n",
            "  Building wheel for face-recognition-models (setup.py) ... \u001b[?25l\u001b[?25hdone\n",
            "  Created wheel for face-recognition-models: filename=face_recognition_models-0.3.0-py2.py3-none-any.whl size=100566185 sha256=ea18a40fb3cc4272a40ae51280a8548baa3fa00fbed3e8b3a3f3f9c85784a192\n",
            "  Stored in directory: /root/.cache/pip/wheels/22/a8/60/4a2aeb763d63f50190f4c4e07069a22245347eeafdb3a67551\n",
            "Successfully built face-recognition-models\n",
            "Installing collected packages: face-recognition-models, face_recognition\n",
            "Successfully installed face-recognition-models-0.3.0 face_recognition-1.3.0\n",
            "/content/face_recognition\n"
          ]
        }
      ]
    },
    {
      "cell_type": "code",
      "source": [
        "import face_recognition\n",
        "import numpy as np\n",
        "from google.colab.patches import cv2_imshow\n",
        "import cv2\n",
        "import os"
      ],
      "metadata": {
        "id": "oL8DoeRo9Kp4"
      },
      "execution_count": null,
      "outputs": []
    },
    {
      "cell_type": "code",
      "source": [
        "known_face_encodings=[]\n",
        "known_face_names=[]\n",
        "#instead of below line mention the source of images\n",
        "for file in os.listdir(path):\n",
        "  known_face_encodings.append(face_recognition.face_encodings(face_recognition.load_image_file(os.path.join(path,file)))[0])\n",
        "  #the name of person in the image\n",
        "  known_face_names.append(file.split('.')[0])\n",
        "#filename is the image to be checked\n",
        "unknown_image=face_recognition.load_image_file(file_name)\n",
        "face_locations=face_recognition.face_locations(unknown_image)\n",
        "face_encodings=face_recognition.face_encodings(unknown_image,face_locations)\n",
        "for _,face_encoding in zip(face_locations,face_encodings):\n",
        "  matches=face_recognition.compare_faces(known_face_encodings,face_encoding)\n",
        "  name='unknown'\n",
        "  face_distances=face_recognition.face_distance(known_face_encodings,face_encoding)\n",
        "  best_match_index=np.argmin(face_distances)\n",
        "  if matches[best_match_index]:\n",
        "    name=known_face_names[best_match_index]\n",
        "    print(name)\n"
      ],
      "metadata": {
        "id": "VITq-GqBAKRx"
      },
      "execution_count": null,
      "outputs": []
    }
  ]
}